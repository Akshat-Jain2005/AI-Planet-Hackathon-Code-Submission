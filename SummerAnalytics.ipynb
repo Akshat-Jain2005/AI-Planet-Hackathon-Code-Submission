{
 "cells": [
  {
   "cell_type": "code",
   "execution_count": 39,
   "id": "fc59b6",
   "metadata": {
    "collapsed": false
   },
   "outputs": [
    {
     "name": "stdout",
     "output_type": "stream",
     "text": [
      "NaNs in train features:\n",
      " RIAGENDR    18\n",
      "PAQ605      13\n",
      "BMXBMI      18\n",
      "LBXGLU      13\n",
      "DIQ010      18\n",
      "LBXGLT      11\n",
      "LBXIN        9\n",
      "dtype: int64\n",
      "NaNs in test features:\n",
      " RIAGENDR    2\n",
      "PAQ605      1\n",
      "BMXBMI      1\n",
      "LBXGLU      1\n",
      "DIQ010      1\n",
      "LBXGLT      2\n",
      "LBXIN       1\n",
      "dtype: int64\n",
      "NaNs in target:\n",
      " 0\n",
      "Any NaNs in X_imputed? False\n",
      "Any NaNs in X_test_imputed? False\n"
     ]
    },
    {
     "name": "stdout",
     "output_type": "stream",
     "text": [
      "Validation Accuracy: 0.8082\n",
      "Submission saved as hackathon_submission.csv\n"
     ]
    }
   ],
   "source": [
    "import pandas as pd\n",
    "import numpy as np\n",
    "from sklearn.ensemble import RandomForestClassifier\n",
    "from sklearn.model_selection import train_test_split\n",
    "from sklearn.metrics import accuracy_score\n",
    "from sklearn.impute import SimpleImputer\n",
    "from sklearn.preprocessing import StandardScaler\n",
    "\n",
    "\n",
    "train_data = pd.read_csv('hacktrain.csv')\n",
    "test_data = pd.read_csv('hacktest.csv')\n",
    "\n",
    "train_data['age_group'] = train_data['age_group'].map({'Adult': 0, 'Senior': 1})\n",
    "\n",
    "\n",
    "features = ['RIAGENDR', 'PAQ605', 'BMXBMI', 'LBXGLU', 'DIQ010', 'LBXGLT', 'LBXIN']\n",
    "target = 'age_group'\n",
    "\n",
    "\n",
    "train_data = train_data.dropna(subset=[target])\n",
    "\n",
    "\n",
    "X = train_data[features]\n",
    "y = train_data[target]\n",
    "X_test = test_data[features]\n",
    "\n",
    "print(\"NaNs in train features:\\n\", X.isnull().sum())\n",
    "print(\"NaNs in test features:\\n\", X_test.isnull().sum())\n",
    "print(\"NaNs in target:\\n\", y.isnull().sum())\n",
    "\n",
    "\n",
    "imputer = SimpleImputer(strategy='median')\n",
    "X_imputed = imputer.fit_transform(X)\n",
    "X_test_imputed = imputer.transform(X_test)\n",
    "\n",
    "\n",
    "print(\"Any NaNs in X_imputed?\", np.isnan(X_imputed).any())\n",
    "print(\"Any NaNs in X_test_imputed?\", np.isnan(X_test_imputed).any())\n",
    "\n",
    "\n",
    "scaler = StandardScaler()\n",
    "X_scaled = scaler.fit_transform(X_imputed)\n",
    "X_test_scaled = scaler.transform(X_test_imputed)\n",
    "\n",
    "\n",
    "X_train, X_val, y_train, y_val = train_test_split(X_scaled, y, test_size=0.2, random_state=42)\n",
    "\n",
    "\n",
    "model = RandomForestClassifier(n_estimators=200, max_depth=10, random_state=42, class_weight='balanced')\n",
    "model.fit(X_train, y_train)\n",
    "\n",
    "\n",
    "val_preds = model.predict(X_val)\n",
    "val_acc = accuracy_score(y_val, val_preds)\n",
    "print(f'Validation Accuracy: {val_acc:.4f}')\n",
    "\n",
    "\n",
    "test_preds = model.predict(X_test_scaled)\n",
    "\n",
    "\n",
    "submission = pd.DataFrame({\n",
    "    \n",
    "    'age_group': test_preds\n",
    "})\n",
    "submission.to_csv('hackathon_submission.csv', index=False)\n",
    "print(\"Submission saved as hackathon_submission.csv\")\n",
    "\n",
    "\n"
   ]
  }
 ],
 "metadata": {
  "kernelspec": {
   "argv": [
    "/usr/bin/python3",
    "-m",
    "ipykernel",
    "--HistoryManager.enabled=False",
    "--matplotlib=inline",
    "-c",
    "%config InlineBackend.figure_formats = set(['retina'])\nimport matplotlib; matplotlib.rcParams['figure.figsize'] = (12, 7)",
    "-f",
    "{connection_file}"
   ],
   "display_name": "Python 3 (system-wide)",
   "env": {},
   "language": "python",
   "metadata": {
    "cocalc": {
     "description": "Python 3 programming language",
     "priority": 100,
     "url": "https://www.python.org/"
    }
   },
   "name": "python3",
   "resource_dir": "/ext/jupyter/kernels/python3"
  },
  "language_info": {
   "codemirror_mode": {
    "name": "ipython",
    "version": 3
   },
   "file_extension": ".py",
   "mimetype": "text/x-python",
   "name": "python",
   "nbconvert_exporter": "python",
   "pygments_lexer": "ipython3",
   "version": "3.10.12"
  }
 },
 "nbformat": 4,
 "nbformat_minor": 4
}
