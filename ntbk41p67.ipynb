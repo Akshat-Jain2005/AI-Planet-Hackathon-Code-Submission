{
 "cells": [
  {
   "cell_type": "code",
   "execution_count": 2,
   "id": "dd5c627e",
   "metadata": {},
   "outputs": [],
   "source": [
    "import pandas as pd\n",
    "import numpy as np\n",
    "from sklearn.experimental import enable_iterative_imputer\n",
    "from sklearn.impute import IterativeImputer\n",
    "from sklearn.preprocessing import StandardScaler\n",
    "from sklearn.model_selection import StratifiedKFold, train_test_split\n",
    "from sklearn.metrics import accuracy_score, precision_recall_curve\n",
    "from sklearn.ensemble import RandomForestClassifier, GradientBoostingClassifier\n",
    "import lightgbm as lgb\n",
    "from imblearn.over_sampling import BorderlineSMOTE\n"
   ]
  },
  {
   "cell_type": "code",
   "execution_count": 3,
   "id": "6387c384",
   "metadata": {},
   "outputs": [],
   "source": [
    "\n",
    "# Load data\n",
    "train = pd.read_csv('data/Train_Data.csv')\n",
    "test = pd.read_csv('data/Test_Data.csv')\n"
   ]
  },
  {
   "cell_type": "code",
   "execution_count": 4,
   "id": "d57cd766",
   "metadata": {},
   "outputs": [],
   "source": [
    "\n",
    "# Clean target variable\n",
    "train = train.dropna(subset=['age_group'])\n",
    "train['age_group'] = train['age_group'].map({'Adult': 0, 'Senior': 1}).astype(int)\n"
   ]
  },
  {
   "cell_type": "code",
   "execution_count": 5,
   "id": "6e2caf08",
   "metadata": {},
   "outputs": [],
   "source": [
    "\n",
    "# Define features\n",
    "features = ['RIAGENDR', 'PAQ605', 'BMXBMI', 'LBXGLU', 'DIQ010', 'LBXGLT', 'LBXIN']\n"
   ]
  },
  {
   "cell_type": "code",
   "execution_count": 6,
   "id": "e361606f",
   "metadata": {},
   "outputs": [],
   "source": [
    "\n",
    "# Advanced clinical feature engineering\n",
    "def create_advanced_features(df):\n",
    "    df = df.copy()\n",
    "    # Metabolic interactions\n",
    "    df['BMI_Glucose_Interaction'] = df['BMXBMI'] * df['LBXGLU']\n",
    "    df['Insulin_Glucose_Ratio'] = df['LBXIN'] / (df['LBXGLU'] + 1e-6)\n",
    "    df['GTT_Glucose_Ratio'] = df['LBXGLT'] / (df['LBXGLU'] + 1e-6)\n",
    "    # Clinical risk flags\n",
    "    df['Obesity_Flag'] = (df['BMXBMI'] >= 30).astype(int)\n",
    "    df['Prediabetes_Flag'] = (df['LBXGLU'] >= 100).astype(int)\n",
    "    df['High_Insulin_Flag'] = (df['LBXIN'] >= 15).astype(int)\n",
    "    df['Impaired_GTT_Flag'] = (df['LBXGLT'] >= 140).astype(int)\n",
    "    # Composite risk score\n",
    "    df['Metabolic_Risk_Score'] = (df['Obesity_Flag'] + df['Prediabetes_Flag'] + \n",
    "                                  df['High_Insulin_Flag'] + df['Impaired_GTT_Flag'])\n",
    "    return df\n"
   ]
  },
  {
   "cell_type": "code",
   "execution_count": 7,
   "id": "601333f6",
   "metadata": {},
   "outputs": [],
   "source": [
    "\n",
    "# Apply feature engineering\n",
    "train_eng = create_advanced_features(train[features])\n",
    "test_eng = create_advanced_features(test[features])\n",
    "all_features = (features + ['BMI_Glucose_Interaction', 'Insulin_Glucose_Ratio', \n",
    "                            'GTT_Glucose_Ratio', 'Obesity_Flag', 'Prediabetes_Flag', \n",
    "                            'High_Insulin_Flag', 'Impaired_GTT_Flag', 'Metabolic_Risk_Score'])\n"
   ]
  },
  {
   "cell_type": "code",
   "execution_count": 8,
   "id": "6c60af3e",
   "metadata": {},
   "outputs": [
    {
     "name": "stderr",
     "output_type": "stream",
     "text": [
      "c:\\Users\\DELL\\AppData\\Local\\Programs\\Python\\Python313\\Lib\\site-packages\\sklearn\\impute\\_iterative.py:895: ConvergenceWarning: [IterativeImputer] Early stopping criterion not reached.\n",
      "  warnings.warn(\n"
     ]
    }
   ],
   "source": [
    "\n",
    "# Impute missing values using MICE\n",
    "imputer = IterativeImputer(max_iter=20, random_state=42)\n",
    "train_imp = pd.DataFrame(imputer.fit_transform(train_eng), columns=all_features, index=train_eng.index)\n",
    "test_imp = pd.DataFrame(imputer.transform(test_eng), columns=all_features, index=test_eng.index)\n"
   ]
  },
  {
   "cell_type": "code",
   "execution_count": 9,
   "id": "3cf4e1c3",
   "metadata": {},
   "outputs": [],
   "source": [
    "\n",
    "# Scale features\n",
    "scaler = StandardScaler()\n",
    "X_train = scaler.fit_transform(train_imp)\n",
    "X_test = scaler.transform(test_imp)\n",
    "y_train = train['age_group'].values\n"
   ]
  },
  {
   "cell_type": "code",
   "execution_count": 10,
   "id": "fb0d8b1a",
   "metadata": {},
   "outputs": [
    {
     "name": "stdout",
     "output_type": "stream",
     "text": [
      "Original class distribution: [1638  314]\n",
      "Resampled class distribution: [1638 1638]\n"
     ]
    }
   ],
   "source": [
    "\n",
    "# Handle class imbalance with BorderlineSMOTE\n",
    "smote = BorderlineSMOTE(random_state=42, k_neighbors=5)\n",
    "X_resampled, y_resampled = smote.fit_resample(X_train, y_train)\n",
    "print(f\"Original class distribution: {np.bincount(y_train)}\")\n",
    "print(f\"Resampled class distribution: {np.bincount(y_resampled)}\")\n"
   ]
  },
  {
   "cell_type": "code",
   "execution_count": 11,
   "id": "76ab1bac",
   "metadata": {},
   "outputs": [],
   "source": [
    "\n",
    "# Define ensemble models\n",
    "models = {\n",
    "    'rf': RandomForestClassifier(n_estimators=300, max_depth=10, min_samples_split=10, \n",
    "                                 class_weight='balanced', random_state=42),\n",
    "    'gb': GradientBoostingClassifier(n_estimators=300, learning_rate=0.05, max_depth=6, \n",
    "                                     subsample=0.8, random_state=42),\n",
    "    'lgb': lgb.LGBMClassifier(n_estimators=500, learning_rate=0.05, num_leaves=31, max_depth=8, \n",
    "                              subsample=0.8, colsample_bytree=0.8, class_weight='balanced', \n",
    "                              random_state=42, verbosity=-1)\n",
    "}\n"
   ]
  },
  {
   "cell_type": "code",
   "execution_count": 12,
   "id": "4adceee4",
   "metadata": {},
   "outputs": [
    {
     "name": "stderr",
     "output_type": "stream",
     "text": [
      "c:\\Users\\DELL\\AppData\\Local\\Programs\\Python\\Python313\\Lib\\site-packages\\sklearn\\utils\\validation.py:2739: UserWarning: X does not have valid feature names, but LGBMClassifier was fitted with feature names\n",
      "  warnings.warn(\n",
      "c:\\Users\\DELL\\AppData\\Local\\Programs\\Python\\Python313\\Lib\\site-packages\\sklearn\\utils\\validation.py:2739: UserWarning: X does not have valid feature names, but LGBMClassifier was fitted with feature names\n",
      "  warnings.warn(\n",
      "c:\\Users\\DELL\\AppData\\Local\\Programs\\Python\\Python313\\Lib\\site-packages\\sklearn\\utils\\validation.py:2739: UserWarning: X does not have valid feature names, but LGBMClassifier was fitted with feature names\n",
      "  warnings.warn(\n"
     ]
    },
    {
     "name": "stdout",
     "output_type": "stream",
     "text": [
      "Fold 1 completed\n"
     ]
    },
    {
     "name": "stderr",
     "output_type": "stream",
     "text": [
      "c:\\Users\\DELL\\AppData\\Local\\Programs\\Python\\Python313\\Lib\\site-packages\\sklearn\\utils\\validation.py:2739: UserWarning: X does not have valid feature names, but LGBMClassifier was fitted with feature names\n",
      "  warnings.warn(\n",
      "c:\\Users\\DELL\\AppData\\Local\\Programs\\Python\\Python313\\Lib\\site-packages\\sklearn\\utils\\validation.py:2739: UserWarning: X does not have valid feature names, but LGBMClassifier was fitted with feature names\n",
      "  warnings.warn(\n",
      "c:\\Users\\DELL\\AppData\\Local\\Programs\\Python\\Python313\\Lib\\site-packages\\sklearn\\utils\\validation.py:2739: UserWarning: X does not have valid feature names, but LGBMClassifier was fitted with feature names\n",
      "  warnings.warn(\n"
     ]
    },
    {
     "name": "stdout",
     "output_type": "stream",
     "text": [
      "Fold 2 completed\n"
     ]
    },
    {
     "name": "stderr",
     "output_type": "stream",
     "text": [
      "c:\\Users\\DELL\\AppData\\Local\\Programs\\Python\\Python313\\Lib\\site-packages\\sklearn\\utils\\validation.py:2739: UserWarning: X does not have valid feature names, but LGBMClassifier was fitted with feature names\n",
      "  warnings.warn(\n",
      "c:\\Users\\DELL\\AppData\\Local\\Programs\\Python\\Python313\\Lib\\site-packages\\sklearn\\utils\\validation.py:2739: UserWarning: X does not have valid feature names, but LGBMClassifier was fitted with feature names\n",
      "  warnings.warn(\n",
      "c:\\Users\\DELL\\AppData\\Local\\Programs\\Python\\Python313\\Lib\\site-packages\\sklearn\\utils\\validation.py:2739: UserWarning: X does not have valid feature names, but LGBMClassifier was fitted with feature names\n",
      "  warnings.warn(\n"
     ]
    },
    {
     "name": "stdout",
     "output_type": "stream",
     "text": [
      "Fold 3 completed\n"
     ]
    },
    {
     "name": "stderr",
     "output_type": "stream",
     "text": [
      "c:\\Users\\DELL\\AppData\\Local\\Programs\\Python\\Python313\\Lib\\site-packages\\sklearn\\utils\\validation.py:2739: UserWarning: X does not have valid feature names, but LGBMClassifier was fitted with feature names\n",
      "  warnings.warn(\n",
      "c:\\Users\\DELL\\AppData\\Local\\Programs\\Python\\Python313\\Lib\\site-packages\\sklearn\\utils\\validation.py:2739: UserWarning: X does not have valid feature names, but LGBMClassifier was fitted with feature names\n",
      "  warnings.warn(\n",
      "c:\\Users\\DELL\\AppData\\Local\\Programs\\Python\\Python313\\Lib\\site-packages\\sklearn\\utils\\validation.py:2739: UserWarning: X does not have valid feature names, but LGBMClassifier was fitted with feature names\n",
      "  warnings.warn(\n"
     ]
    },
    {
     "name": "stdout",
     "output_type": "stream",
     "text": [
      "Fold 4 completed\n",
      "Fold 5 completed\n"
     ]
    },
    {
     "name": "stderr",
     "output_type": "stream",
     "text": [
      "c:\\Users\\DELL\\AppData\\Local\\Programs\\Python\\Python313\\Lib\\site-packages\\sklearn\\utils\\validation.py:2739: UserWarning: X does not have valid feature names, but LGBMClassifier was fitted with feature names\n",
      "  warnings.warn(\n",
      "c:\\Users\\DELL\\AppData\\Local\\Programs\\Python\\Python313\\Lib\\site-packages\\sklearn\\utils\\validation.py:2739: UserWarning: X does not have valid feature names, but LGBMClassifier was fitted with feature names\n",
      "  warnings.warn(\n",
      "c:\\Users\\DELL\\AppData\\Local\\Programs\\Python\\Python313\\Lib\\site-packages\\sklearn\\utils\\validation.py:2739: UserWarning: X does not have valid feature names, but LGBMClassifier was fitted with feature names\n",
      "  warnings.warn(\n"
     ]
    }
   ],
   "source": [
    "\n",
    "# Cross-validation and ensemble prediction\n",
    "cv = StratifiedKFold(n_splits=5, shuffle=True, random_state=42)\n",
    "ensemble_preds = np.zeros(len(X_test))\n",
    "oof_preds = np.zeros(len(X_resampled))\n",
    "\n",
    "for fold, (train_idx, val_idx) in enumerate(cv.split(X_resampled, y_resampled)):\n",
    "    X_tr, X_val = X_resampled[train_idx], X_resampled[val_idx]\n",
    "    y_tr, y_val = y_resampled[train_idx], y_resampled[val_idx]\n",
    "    \n",
    "    fold_preds = []\n",
    "    for name, model in models.items():\n",
    "        model.fit(X_tr, y_tr)\n",
    "        val_pred = model.predict_proba(X_val)[:, 1]\n",
    "        test_pred = model.predict_proba(X_test)[:, 1]\n",
    "        fold_preds.append(test_pred)\n",
    "    \n",
    "    # Average predictions for the fold\n",
    "    ensemble_pred = np.mean(fold_preds, axis=0)\n",
    "    ensemble_preds += ensemble_pred / cv.n_splits\n",
    "    \n",
    "    # Out-of-fold predictions for threshold optimization\n",
    "    val_ensemble = np.mean([model.predict_proba(X_val)[:, 1] for model in models.values()], axis=0)\n",
    "    oof_preds[val_idx] = val_ensemble\n",
    "    print(f\"Fold {fold+1} completed\")\n"
   ]
  },
  {
   "cell_type": "code",
   "execution_count": 13,
   "id": "0f7d34bc",
   "metadata": {},
   "outputs": [
    {
     "name": "stdout",
     "output_type": "stream",
     "text": [
      "Baseline accuracy (threshold=0.5): 0.8730\n"
     ]
    }
   ],
   "source": [
    "\n",
    "# Optimize threshold for accuracy\n",
    "precision, recall, thresholds = precision_recall_curve(y_resampled, oof_preds)\n",
    "# Since we're targeting accuracy, we'll also check accuracy directly\n",
    "oof_binary_preds = (oof_preds >= 0.5).astype(int)\n",
    "base_accuracy = accuracy_score(y_resampled, oof_binary_preds)\n",
    "print(f\"Baseline accuracy (threshold=0.5): {base_accuracy:.4f}\")\n"
   ]
  },
  {
   "cell_type": "code",
   "execution_count": 14,
   "id": "56e35e82",
   "metadata": {},
   "outputs": [
    {
     "name": "stdout",
     "output_type": "stream",
     "text": [
      "Optimal threshold: 0.5926\n",
      "Best accuracy on resampled data: 0.8806\n"
     ]
    }
   ],
   "source": [
    "\n",
    "# Test different thresholds for maximum accuracy\n",
    "best_accuracy = base_accuracy\n",
    "best_threshold = 0.5\n",
    "for thresh in thresholds:\n",
    "    preds = (oof_preds >= thresh).astype(int)\n",
    "    acc = accuracy_score(y_resampled, preds)\n",
    "    if acc > best_accuracy:\n",
    "        best_accuracy = acc\n",
    "        best_threshold = thresh\n",
    "\n",
    "print(f\"Optimal threshold: {best_threshold:.4f}\")\n",
    "print(f\"Best accuracy on resampled data: {best_accuracy:.4f}\")\n"
   ]
  },
  {
   "cell_type": "code",
   "execution_count": 15,
   "id": "07d14881",
   "metadata": {},
   "outputs": [],
   "source": [
    "\n",
    "# Final predictions with optimized threshold\n",
    "final_preds = (ensemble_preds >= best_threshold).astype(int)\n"
   ]
  },
  {
   "cell_type": "code",
   "execution_count": 16,
   "id": "cf9f88c1",
   "metadata": {},
   "outputs": [
    {
     "name": "stdout",
     "output_type": "stream",
     "text": [
      "submission.csv saved. Prediction distribution:\n",
      "Adults (0): 267 (85.6%)\n",
      "Seniors (1): 45 (14.4%)\n"
     ]
    }
   ],
   "source": [
    "\n",
    "# Create submission file\n",
    "submission = pd.DataFrame({'age_group': final_preds})\n",
    "submission.to_csv('submission.csv', index=False)\n",
    "print(\"submission.csv saved. Prediction distribution:\")\n",
    "print(f\"Adults (0): {np.sum(final_preds == 0)} ({np.mean(final_preds == 0)*100:.1f}%)\")\n",
    "print(f\"Seniors (1): {np.sum(final_preds == 1)} ({np.mean(final_preds == 1)*100:.1f}%)\")\n"
   ]
  }
 ],
 "metadata": {
  "kernelspec": {
   "display_name": "Python 3",
   "language": "python",
   "name": "python3"
  },
  "language_info": {
   "codemirror_mode": {
    "name": "ipython",
    "version": 3
   },
   "file_extension": ".py",
   "mimetype": "text/x-python",
   "name": "python",
   "nbconvert_exporter": "python",
   "pygments_lexer": "ipython3",
   "version": "3.13.3"
  }
 },
 "nbformat": 4,
 "nbformat_minor": 5
}
